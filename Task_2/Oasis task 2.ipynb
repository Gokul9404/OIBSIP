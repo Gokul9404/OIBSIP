{
 "cells": [
  {
   "cell_type": "markdown",
   "id": "79edf80e",
   "metadata": {},
   "source": [
    "# UNEMPLOYMENT ANALYSIS WITH PYTHON"
   ]
  },
  {
   "cell_type": "markdown",
   "id": "20377520",
   "metadata": {},
   "source": [
    "# Project by:- Mayur Dnyaneshwar Shinde"
   ]
  },
  {
   "attachments": {},
   "cell_type": "markdown",
   "id": "28c3ffa6",
   "metadata": {},
   "source": [
    "### Unemployment is measured by the unemployment rate which is the number of people who are unemployed as a percentage of the total labour force. We have seen a sharp increase in the unemployment rate during Covid-19, so analyzing the unemployment rate can be a good data science project"
   ]
  },
  {
   "cell_type": "code",
   "execution_count": null,
   "id": "57c55a1a",
   "metadata": {},
   "outputs": [],
   "source": [
    "import pandas as pd\n",
    "import numpy as np\n",
    "import matplotlib.pyplot as plt\n",
    "import seaborn as sns\n",
    "import plotly.express as px"
   ]
  },
  {
   "cell_type": "code",
   "execution_count": null,
   "id": "312d9711",
   "metadata": {},
   "outputs": [],
   "source": [
    "df = pd.read_csv('Unemployment_Rate_upto_11_2020.csv')"
   ]
  },
  {
   "cell_type": "code",
   "execution_count": null,
   "id": "62e4a0c7",
   "metadata": {},
   "outputs": [],
   "source": [
    "df"
   ]
  },
  {
   "cell_type": "code",
   "execution_count": null,
   "id": "3ef0df02",
   "metadata": {},
   "outputs": [],
   "source": [
    "print(df.shape)"
   ]
  },
  {
   "cell_type": "code",
   "execution_count": null,
   "id": "2d886884",
   "metadata": {},
   "outputs": [],
   "source": [
    "df.describe()"
   ]
  },
  {
   "cell_type": "code",
   "execution_count": null,
   "id": "9a02cb34",
   "metadata": {},
   "outputs": [],
   "source": [
    "df.info()"
   ]
  },
  {
   "cell_type": "code",
   "execution_count": null,
   "id": "6d740bc1",
   "metadata": {},
   "outputs": [],
   "source": [
    "# Checking for null values\n",
    "df.isna().sum()"
   ]
  },
  {
   "cell_type": "code",
   "execution_count": null,
   "id": "d4526fee",
   "metadata": {},
   "outputs": [],
   "source": [
    "df.describe()"
   ]
  },
  {
   "cell_type": "code",
   "execution_count": null,
   "id": "84b2ecf2",
   "metadata": {},
   "outputs": [],
   "source": [
    "df.head()"
   ]
  },
  {
   "cell_type": "code",
   "execution_count": null,
   "id": "c282ffba",
   "metadata": {},
   "outputs": [],
   "source": [
    "df.tail()"
   ]
  },
  {
   "attachments": {},
   "cell_type": "markdown",
   "id": "4c2647ea",
   "metadata": {},
   "source": [
    "### column names int dataset are not correct for better visualisation and understanding.\n",
    "### So, for a better understanding of this data, we will rename the columns"
   ]
  },
  {
   "cell_type": "code",
   "execution_count": null,
   "id": "9e552506",
   "metadata": {},
   "outputs": [],
   "source": [
    "df.columns= [\"States\",\"Date\",\"Frequency\",\n",
    "               \"Estimated Unemployment Rate\",\n",
    "               \"Estimated Employed\",\n",
    "               \"Estimated Labour Participation Rate\",\n",
    "               \"Region\",\"longitude\",\"latitude\"]"
   ]
  },
  {
   "cell_type": "code",
   "execution_count": null,
   "id": "d0bf45ef",
   "metadata": {},
   "outputs": [],
   "source": [
    "df.head(10)"
   ]
  },
  {
   "cell_type": "code",
   "execution_count": null,
   "id": "fcd07592",
   "metadata": {},
   "outputs": [],
   "source": [
    "df['States'].value_counts()"
   ]
  },
  {
   "cell_type": "markdown",
   "id": "c3da4ba9",
   "metadata": {},
   "source": [
    "# Unemployment Rate Analysis"
   ]
  },
  {
   "cell_type": "code",
   "execution_count": null,
   "id": "7e654dee",
   "metadata": {},
   "outputs": [],
   "source": [
    "# Setting up the graph, plots font \n",
    "plt.rc('font', **{'size':16, 'family':'constantia'})"
   ]
  },
  {
   "cell_type": "code",
   "execution_count": null,
   "id": "735ddf5f",
   "metadata": {},
   "outputs": [],
   "source": [
    "sns.pairplot(df,x_vars=df[[\"Estimated Unemployment Rate\",\n",
    "               \"Estimated Employed\",\n",
    "               \"Estimated Labour Participation Rate\"]],\n",
    "               y_vars=df[[\"Estimated Unemployment Rate\",\n",
    "               \"Estimated Employed\",\n",
    "               \"Estimated Labour Participation Rate\"]],size=4, palette='Dark2', hue=\"Region\")\n",
    "plt.show()"
   ]
  },
  {
   "cell_type": "code",
   "execution_count": null,
   "id": "8e4ea6be",
   "metadata": {},
   "outputs": [],
   "source": [
    "state_list = df['States'].unique()\n",
    "\n",
    "region_list = df['Region'].unique()\n",
    "region_list.sort()\n",
    "\n",
    "regions = df.groupby(\"Region\")\n",
    "state_list_by_region = regions[\"States\"].unique()\n"
   ]
  },
  {
   "attachments": {},
   "cell_type": "markdown",
   "id": "d1b9e44b",
   "metadata": {},
   "source": [
    "## <i>The unemployment rate</i> according to different <i>Regions of India</i>"
   ]
  },
  {
   "cell_type": "code",
   "execution_count": null,
   "id": "3908cee0",
   "metadata": {},
   "outputs": [],
   "source": [
    "Overall_unemp_rate = df[\"Estimated Unemployment Rate\"].mean()\n",
    "print(f\"Estimated Unemloyement Rate of the country :- {Overall_unemp_rate}\")\n",
    "\n",
    "region_unemp_rate = df.groupby(\"Region\")[\"Estimated Unemployment Rate\"]\n",
    "region_mean_unemp_rate = region_unemp_rate.mean()\n",
    "region_mean_unemp_rate\n"
   ]
  },
  {
   "cell_type": "code",
   "execution_count": null,
   "id": "0ce4ddc5",
   "metadata": {},
   "outputs": [],
   "source": [
    "color_list = []\n",
    "for region in region_list:\n",
    "    if region_mean_unemp_rate[region] < Overall_unemp_rate: \n",
    "        color_list.append(\"green\")\n",
    "    else: color_list.append(\"red\")\n",
    "\n",
    "plt.figure(figsize=(16,9))\n",
    "plt.bar(region_list, region_mean_unemp_rate, color = color_list)\n",
    "plt.xlabel(\"Regions in india\", fontdict={\"size\":16})\n",
    "plt.ylabel(\"Estimated Unemployment Rate\")\n",
    "plt.show()\n"
   ]
  },
  {
   "cell_type": "code",
   "execution_count": null,
   "id": "d380d36e",
   "metadata": {},
   "outputs": [],
   "source": [
    "plt.figure(figsize=(12, 10))\n",
    "plt.title(\"Indian Unemployment\")\n",
    "sns.histplot(x=\"Estimated Unemployment Rate\", hue=\"Region\", data=df)\n",
    "plt.show()"
   ]
  },
  {
   "attachments": {},
   "cell_type": "markdown",
   "id": "86d2e9e1",
   "metadata": {},
   "source": [
    "# The <i>Unemployment rate</i> of each <i>Indian state by region</i>."
   ]
  },
  {
   "cell_type": "code",
   "execution_count": null,
   "id": "1cb4a116",
   "metadata": {},
   "outputs": [],
   "source": [
    "unemploment = df[[\"States\", \"Region\", \"Estimated Unemployment Rate\"]]\n",
    "figure = px.sunburst(unemploment, path=[\"Region\", \"States\"], \n",
    "                     values=\"Estimated Unemployment Rate\", \n",
    "                     width=700, height=700, color_continuous_scale=\"RdY1Gn\", \n",
    "                     title=\"Unemployment Rate in India\")\n",
    "figure.show()"
   ]
  },
  {
   "attachments": {},
   "cell_type": "markdown",
   "id": "a01b5ca8",
   "metadata": {},
   "source": [
    "# The <i>Unemployment rate</i> of each <i>Indian state</i>."
   ]
  },
  {
   "cell_type": "code",
   "execution_count": null,
   "id": "febffaca",
   "metadata": {},
   "outputs": [],
   "source": [
    "Overall_unemp_rate = df[\"Estimated Unemployment Rate\"].mean()\n",
    "print(f\"Estimated Unemloyement Rate of the country :- {Overall_unemp_rate}\")\n",
    "\n",
    "state_unemp_rate = df.groupby(\"States\")[\"Estimated Unemployment Rate\"]\n",
    "state_mean_unemp_rate = state_unemp_rate.mean()\n",
    "state_mean_unemp_rate"
   ]
  },
  {
   "cell_type": "code",
   "execution_count": null,
   "id": "cd75d3fb",
   "metadata": {},
   "outputs": [],
   "source": [
    "color_list = []\n",
    "for states in state_list:\n",
    "    if state_mean_unemp_rate[states] < Overall_unemp_rate: \n",
    "        color_list.append(\"green\")\n",
    "    else: color_list.append(\"red\")\n",
    "\n",
    "plt.figure(figsize=(16,9))\n",
    "plt.bar(state_list, state_mean_unemp_rate, color=color_list)\n",
    "plt.xlabel(\"States in india\", fontdict={\"size\":20})\n",
    "plt.xticks(rotation=90)\n",
    "plt.ylabel(\"Estimated Unemployment Rate\", fontdict={\"size\":20})\n",
    "plt.show()\n"
   ]
  },
  {
   "cell_type": "markdown",
   "id": "aa0b0afd",
   "metadata": {},
   "source": [
    "# The <i>Estimated Employment</i> in each <i>Region of India</i>.m"
   ]
  },
  {
   "cell_type": "code",
   "execution_count": null,
   "id": "659e4f1b",
   "metadata": {},
   "outputs": [],
   "source": [
    "\n",
    "plt.figure(figsize=(8,6))\n",
    "plt.scatter(df['Region'], df['Estimated Employed'], alpha=0.2,s=200, c='g')\n",
    "plt.xlabel(\"Regions in India\",fontsize=20)\n",
    "plt.ylabel(\"Employment (in *100k)\",fontsize=20)\n"
   ]
  },
  {
   "cell_type": "code",
   "execution_count": null,
   "id": "a5ebe732",
   "metadata": {},
   "outputs": [],
   "source": [
    "plt.figure(figsize=(16,12))\n",
    "plt.title(\"Indian Employment\")\n",
    "sns.histplot(x=\"Estimated Employed\", hue=\"Region\", data=df)\n",
    "plt.show()"
   ]
  },
  {
   "cell_type": "code",
   "execution_count": null,
   "id": "d34486b9",
   "metadata": {},
   "outputs": [],
   "source": []
  }
 ],
 "metadata": {
  "kernelspec": {
   "display_name": "Python 3",
   "language": "python",
   "name": "python3"
  },
  "language_info": {
   "codemirror_mode": {
    "name": "ipython",
    "version": 3
   },
   "file_extension": ".py",
   "mimetype": "text/x-python",
   "name": "python",
   "nbconvert_exporter": "python",
   "pygments_lexer": "ipython3",
   "version": "3.10.2"
  },
  "vscode": {
   "interpreter": {
    "hash": "369f2c481f4da34e4445cda3fffd2e751bd1c4d706f27375911949ba6bb62e1c"
   }
  }
 },
 "nbformat": 4,
 "nbformat_minor": 5
}
